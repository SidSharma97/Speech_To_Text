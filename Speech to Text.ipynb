{
 "cells": [
  {
   "cell_type": "code",
   "execution_count": 2,
   "metadata": {},
   "outputs": [
    {
     "name": "stdout",
     "output_type": "stream",
     "text": [
      "Say Something : \n",
      "You Said : welcome to my channel please like share and subscribe\n"
     ]
    }
   ],
   "source": [
    "import speech_recognition as sr\n",
    "a = sr.Recognizer()\n",
    "with sr.Microphone() as source:\n",
    "    print(\"Say Something : \")\n",
    "    audio = a.listen(source)\n",
    "    try:\n",
    "        text = a.recognize_google(audio)\n",
    "        print(\"You Said : {}\".format(text))\n",
    "        \n",
    "    except:\n",
    "        print(\"Sorry could not recognize\")"
   ]
  },
  {
   "cell_type": "code",
   "execution_count": null,
   "metadata": {},
   "outputs": [],
   "source": []
  }
 ],
 "metadata": {
  "kernelspec": {
   "display_name": "Python 3",
   "language": "python",
   "name": "python3"
  },
  "language_info": {
   "codemirror_mode": {
    "name": "ipython",
    "version": 3
   },
   "file_extension": ".py",
   "mimetype": "text/x-python",
   "name": "python",
   "nbconvert_exporter": "python",
   "pygments_lexer": "ipython3",
   "version": "3.7.3"
  }
 },
 "nbformat": 4,
 "nbformat_minor": 4
}
